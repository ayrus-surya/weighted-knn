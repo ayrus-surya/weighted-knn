{
  "nbformat": 4,
  "nbformat_minor": 0,
  "metadata": {
    "colab": {
      "name": "KNN: may-this-be-the-last-time",
      "provenance": [],
      "collapsed_sections": []
    },
    "kernelspec": {
      "name": "python3",
      "display_name": "Python 3"
    },
    "accelerator": "GPU"
  },
  "cells": [
    {
      "cell_type": "code",
      "metadata": {
        "id": "p3vhK_M9jPO-",
        "colab_type": "code",
        "outputId": "954a2ea6-3de3-4d62-ffde-ddb9e6571812",
        "colab": {
          "base_uri": "https://localhost:8080/",
          "height": 52
        }
      },
      "source": [
        "import pandas as pd\n",
        "import numpy as np\n",
        "import seaborn as sns\n",
        "import matplotlib.pyplot as plt\n",
        "from scipy.stats import pointbiserialr\n",
        "import random\n",
        "from sklearn.utils import resample\n",
        "import warnings \n",
        "warnings.filterwarnings('ignore')\n",
        "\n",
        "from google.colab import drive\n",
        "\n",
        "drive.mount('/gdrive')\n",
        "%cd /gdrive"
      ],
      "execution_count": 0,
      "outputs": [
        {
          "output_type": "stream",
          "text": [
            "Drive already mounted at /gdrive; to attempt to forcibly remount, call drive.mount(\"/gdrive\", force_remount=True).\n",
            "/gdrive\n"
          ],
          "name": "stdout"
        }
      ]
    },
    {
      "cell_type": "code",
      "metadata": {
        "id": "EFKWwGLHqlfX",
        "colab_type": "code",
        "colab": {}
      },
      "source": [
        "def upsample(df):\n",
        "  up = df['class'].value_counts()[1]\n",
        "  df_majority = df[df['class']==1]\n",
        "  df_minority = df[df['class']==0]\n",
        "  df_minority_upsampled = resample(df_minority, \n",
        "                                  replace=True,     # sample with replacement\n",
        "                                  n_samples=up,    # to match majority class\n",
        "                                  random_state=123) # reproducible results\n",
        "  \n",
        "  # Combine majority class with upsampled minority class\n",
        "  df_upsampled = pd.concat([df_majority, df_minority_upsampled])\n",
        "  \n",
        "  # Display new class counts\n",
        "  df=df_upsampled\n",
        "  nrows=len(df['class'])\n",
        "  df.index=[i for i in range(nrows)]\n",
        "  return df"
      ],
      "execution_count": 0,
      "outputs": []
    },
    {
      "cell_type": "code",
      "metadata": {
        "id": "UTWhFEhjnhXi",
        "colab_type": "code",
        "colab": {}
      },
      "source": [
        "def dim_reduction(df):\n",
        "  df = df.drop(['Unnamed: 0','pred','spectrometric_redshift'], axis = 1)\n",
        "  temp = df['galex_objid']\n",
        "  temp = temp.unique()\n",
        "  corr = df.corr()\n",
        "  plt.figure(figsize = (30,16))\n",
        "  sns.heatmap(corr,cmap='coolwarm')\n",
        "  corr_class = []\n",
        "  corr_final = []\n",
        "  for i in df.columns:\n",
        "      corr_class.append(pointbiserialr(df['class'],df[i]))\n",
        "  for i in range(len(corr_class)):\n",
        "    corr_final.append(corr_class[i][0])\n",
        "  columns = np.full((corr.shape[0],), True, dtype=bool)\n",
        "  for i in range(corr.shape[0]):\n",
        "      for j in range(i+1, corr.shape[0]):\n",
        "          if corr.iloc[i,j] > 0.9 or corr.iloc[i,j] < -0.9:\n",
        "              if abs(corr_final[j]) < abs(corr_final[i]) :\n",
        "                  columns[j] = False\n",
        "              else:\n",
        "                  columns[i] = False\n",
        "  selected_columns = df.columns[columns]\n",
        "  data = df[selected_columns]\n",
        "  return data.columns"
      ],
      "execution_count": 0,
      "outputs": []
    },
    {
      "cell_type": "code",
      "metadata": {
        "id": "_9Lf5uJAj9lx",
        "colab_type": "code",
        "colab": {}
      },
      "source": [
        "def normalise(df, columns):\n",
        "  nrows=len(df['class'])\n",
        "  features = [col for col in df.columns if col!='class']\n",
        "  for col in features:\n",
        "    mean=sum(df[col])/len(df[col])\n",
        "    max_val=max(df[col])\n",
        "    min_val=min(df[col])\n",
        "    for i in range(nrows):\n",
        "      df[col][i]=(mean-df[col][i])/(max_val-min_val)\n",
        "  return df"
      ],
      "execution_count": 0,
      "outputs": []
    },
    {
      "cell_type": "code",
      "metadata": {
        "id": "OeveTC6_kj89",
        "colab_type": "code",
        "colab": {}
      },
      "source": [
        "class kfold():\n",
        "  def __init__(self,dataset,k=2):\n",
        "    self.k = k\n",
        "    self.splits = [[] for i in range(k)] # create k sets\n",
        "    self.gen_splits(dataset)\n",
        "\n",
        "  def gen_splits(self,dataset):\n",
        "    length = len(dataset)  # Total number of columns\n",
        "    available_indexes = [i for i in range(len(dataset))] #Available indexes\n",
        "\n",
        "    for subset in range(len(self.splits)):\n",
        "      for i in range(int(length/self.k)):\n",
        "        number = random.choice(available_indexes)\n",
        "        self.splits[subset].append(number)\n",
        "        available_indexes.remove(number)\n",
        "\n",
        "    for i in available_indexes:\n",
        "        random_no =int(random.random()*self.k)\n",
        "        self.splits[random_no].append(i)\n",
        "\n",
        "  def gen_indexes(self):\n",
        "    all_indexes = []\n",
        "    for i in range(len(self.splits)):\n",
        "      test_index = self.splits[0]\n",
        "      train_index =[]\n",
        "      for j in range(len(self.splits)):\n",
        "        if(i!=j):\n",
        "          train_index.extend(self.splits[j])\n",
        "      all_indexes.append((train_index,test_index))\n",
        "    return all_indexes"
      ],
      "execution_count": 0,
      "outputs": []
    },
    {
      "cell_type": "code",
      "metadata": {
        "id": "2R9ci64djcVm",
        "colab_type": "code",
        "colab": {}
      },
      "source": [
        "def knn(df, columns, k):\n",
        "  #normalise\n",
        "  df = normalise(df, columns)\n",
        "\n",
        "  #k-fold split\n",
        "  labels = df['class']\n",
        "  dataset=df.drop('class',axis=1)\n",
        "  number_splits=10\n",
        "  kfoldobj = kfold(dataset,number_splits)\n",
        "  kf=0\n",
        "\n",
        "  for train_index,test_index in kfoldobj.gen_indexes():\n",
        "    train_data,train_labels,test_data,test_data_labels = dataset.values[train_index],labels.values[train_index],dataset.values[test_index],labels.values[test_index]\n",
        "    print(\"Fold\", kf)\n",
        "    dist_from_origin=[]\n",
        "    nrows = len(train_data)\n",
        "    for i in range(nrows):\n",
        "      sum=0\n",
        "      for col in range(len(train_data[0])):\n",
        "        sum+=train_data[i][col]**2\n",
        "      dist_from_origin.append((i, sum**0.5,train_labels[i]))\n",
        "    dist_from_origin=sorted(dist_from_origin, key=lambda tup: tup[1])\n",
        "    nrows_test=len(test_data)\n",
        "    test_result=[]\n",
        "    for t in range(nrows_test):\n",
        "      sum=0\n",
        "      for col in range(len(test_data[0])):\n",
        "        sum+=train_data[t][col]**2\n",
        "      new_point = sum**0.5\n",
        "      for i in range(nrows):\n",
        "        if new_point<dist_from_origin[i][1]:\n",
        "          break\n",
        "      i-=1\n",
        "      res=[]\n",
        "      kn=0\n",
        "      sum=0\n",
        "      z=1\n",
        "      d=1\n",
        "      j=0\n",
        "      new_data=test_data[t]\n",
        "      while i+d*z<nrows:\n",
        "        sum=0\n",
        "        if (i)+z*d>nrows or i==nrows-1:\n",
        "          d=-1\n",
        "          z+=1\n",
        "        elif i+z*d<0 or i==0:\n",
        "          d=1\n",
        "          z+=1\n",
        "        else:\n",
        "          z+=(j%2)\n",
        "          d=-d\n",
        "        if i+d*z<nrows and i+d*z>=0:\n",
        "          for col in range(len(test_data[0])):\n",
        "            sum+=(new_data[col]-train_data[dist_from_origin[i+z*d][0]][col])**2\n",
        "          if (dist_from_origin[i+z*d][1]<1 and sum**0.5<(dist_from_origin[i+z*d][1])**2) or (dist_from_origin[i+z*d][1]>=1 and sum**0.5<(dist_from_origin[i+z*d][1])**0.5):\n",
        "            kn+=1\n",
        "            res.append((sum**0.5,dist_from_origin[i+z*d][2]))\n",
        "            if kn==100:\n",
        "              break\n",
        "          j+=1\n",
        "      res=sorted(res, key = lambda tup: tup[0])\n",
        "      val_0=0\n",
        "      val_1=0\n",
        "      for r in res[0:k]:\n",
        "        if r[1]==0:\n",
        "          val_0+=1/(r[0]+0.00000000000001)\n",
        "        else:\n",
        "          val_1+=1/(r[0]+0.00000000000001)\n",
        "      if val_0>val_1:\n",
        "        test_result.append((0,test_data_labels[t]))\n",
        "      else:\n",
        "        test_result.append((1,test_data_labels[t]))\n",
        "      num_pts=len(test_result)\n",
        "      count_test=0\n",
        "    kf+=1\n",
        "    #metrics\n",
        "    tp = 0\n",
        "    fp = 0\n",
        "    tn = 0\n",
        "    fn = 0\n",
        "    for zx in range(num_pts):\n",
        "      if test_result[zx][0]==1 and test_result[zx][1]==1:\n",
        "        tp+=1\n",
        "      elif test_result[zx][0]==1 and test_result[zx][1]==0:\n",
        "        fp+=1\n",
        "      elif test_result[zx][0]==0 and test_result[zx][1]==1:\n",
        "        fn+=1\n",
        "      elif test_result[zx][0]==0 and test_result[zx][1]==0:\n",
        "        tn+=1\n",
        "    recall=tp/(tp+fn)\n",
        "    precision=tp/(tp+fp)\n",
        "    accuracy=(tp+tn)/(tp+fp+fn+tn)*100\n",
        "    f1=2*(precision*recall)/(precision+recall)\n",
        "    print(\"Recall:\",recall)\n",
        "    print(\"Precision:\",precision)\n",
        "    print(\"F1:\",f1)\n",
        "    print(\"Accuracy:\",accuracy,\"\\n\")\n",
        "  '''import matplotlib.pyplot as plt# ROC curve\n",
        "  from sklearn.metrics import roc_auc_score\n",
        "  from sklearn.metrics import roc_curve\n",
        "\n",
        "  y_true = list(map(lambda x:x[1],test_result))\n",
        "  y_pred = list(map(lambda x:x[0],test_result))\n",
        "  fpr,tpr,thresh=roc_curve(y_true,y_pred)\n",
        "  plt.figure()\n",
        "  plt.xlabel('False Positive Rate')\n",
        "  plt.ylabel('True Positive Rate')\n",
        "  plt.title('Receiver operating characteristic for Catalog2 k=3')\n",
        "  plt.plot(fpr,tpr)\n",
        "  plt.show()'''"
      ],
      "execution_count": 0,
      "outputs": []
    },
    {
      "cell_type": "code",
      "metadata": {
        "id": "wIjiFtdXlS48",
        "colab_type": "code",
        "outputId": "a26079a1-f4fe-4b8c-97a0-c250e958dc8c",
        "colab": {
          "base_uri": "https://localhost:8080/",
          "height": 1000
        }
      },
      "source": [
        "cat1 = upsample(pd.read_csv('/gdrive/My Drive/may-this-be-the-last-time/catalog1/cat1.csv'))\n",
        "cat2 = upsample(pd.read_csv('/gdrive/My Drive/may-this-be-the-last-time/catalog2/cat2.csv'))\n",
        "cat3 = upsample(pd.read_csv('/gdrive/My Drive/may-this-be-the-last-time/catalog3/cat3.csv'))\n",
        "#cat4 = upsample(pd.read_csv('/gdrive/My Drive/may-this-be-the-last-time/catalog4/cat4.csv'))\n",
        "k = 5\n",
        "print('--------Catalog 1--------')\n",
        "knn(cat1, dim_reduction(cat1), k)\n",
        "print('\\n\\n--------Catalog 2--------')\n",
        "knn(cat2, dim_reduction(cat2), k)\n",
        "print('\\n\\n--------Catalog 3--------')\n",
        "knn(cat3, dim_reduction(cat3), k)\n",
        "#print('\\n\\n--------Catalog 4--------')\n",
        "#knn(cat4, dim_reduction(cat4), k)"
      ],
      "execution_count": 0,
      "outputs": [
        {
          "output_type": "stream",
          "text": [
            "\n",
            "\n",
            "--------Catalog 2--------\n",
            "Fold 0\n",
            "Recall: 0.790625\n",
            "Precision: 0.9068100358422939\n",
            "F1: 0.8447412353923205\n",
            "Accuracy: 85.60371517027863 \n",
            "\n",
            "Fold 1\n",
            "Recall: 0.840625\n",
            "Precision: 1.0\n",
            "F1: 0.9134125636672326\n",
            "Accuracy: 92.10526315789474 \n",
            "\n",
            "Fold 2\n",
            "Recall: 0.840625\n",
            "Precision: 1.0\n",
            "F1: 0.9134125636672326\n",
            "Accuracy: 92.10526315789474 \n",
            "\n",
            "Fold 3\n",
            "Recall: 0.83125\n",
            "Precision: 1.0\n",
            "F1: 0.9078498293515359\n",
            "Accuracy: 91.64086687306502 \n",
            "\n",
            "Fold 4\n",
            "Recall: 0.840625\n",
            "Precision: 1.0\n",
            "F1: 0.9134125636672326\n",
            "Accuracy: 92.10526315789474 \n",
            "\n",
            "Fold 5\n",
            "Recall: 0.85\n",
            "Precision: 1.0\n",
            "F1: 0.9189189189189189\n",
            "Accuracy: 92.56965944272446 \n",
            "\n",
            "Fold 6\n",
            "Recall: 0.85\n",
            "Precision: 1.0\n",
            "F1: 0.9189189189189189\n",
            "Accuracy: 92.56965944272446 \n",
            "\n",
            "Fold 7\n",
            "Recall: 0.828125\n",
            "Precision: 1.0\n",
            "F1: 0.905982905982906\n",
            "Accuracy: 91.48606811145511 \n",
            "\n",
            "Fold 8\n",
            "Recall: 0.84375\n",
            "Precision: 1.0\n",
            "F1: 0.9152542372881356\n",
            "Accuracy: 92.26006191950464 \n",
            "\n",
            "Fold 9\n",
            "Recall: 0.834375\n",
            "Precision: 1.0\n",
            "F1: 0.9097103918228279\n",
            "Accuracy: 91.79566563467493 \n",
            "\n"
          ],
          "name": "stdout"
        },
        {
          "output_type": "display_data",
          "data": {
            "image/png": "[encoded data removed]",
            "text/plain": [
              "<Figure size 2160x1152 with 2 Axes>"
            ]
          },
          "metadata": {
            "tags": []
          }
        },
        {
          "output_type": "display_data",
          "data": {
            "image/png": "[encoded data removed]",
            "text/plain": [
              "<Figure size 432x288 with 1 Axes>"
            ]
          },
          "metadata": {
            "tags": []
          }
        }
      ]
    },
    {
      "cell_type": "code",
      "metadata": {
        "id": "i4QTTx30sXqA",
        "colab_type": "code",
        "colab": {}
      },
      "source": [
        ""
      ],
      "execution_count": 0,
      "outputs": []
    }
  ]
}